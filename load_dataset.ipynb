{
 "cells": [
  {
   "cell_type": "code",
   "execution_count": 11,
   "metadata": {},
   "outputs": [],
   "source": [
    "import os\n",
    "import numpy as np\n",
    "from PIL import Image\n",
    "from torch.utils.data import Dataset\n",
    "\n",
    "class MicroscopyDataset (Dataset):\n",
    "    \n",
    "    \"\"\"Loading data fuction\"\"\"\n",
    "    \n",
    "    def __init__(self, image_dir, mask_dir, transforms = None):\n",
    "        self.image_dir = image_dir\n",
    "        self.mask_dir = mask_dir\n",
    "        \n",
    "        #list of all files in folder\n",
    "        self.images = os.listdir(image_dir)\n",
    "    \n",
    "    def __len__(self):\n",
    "        \n",
    "    #Length of the dataset\n",
    "    \n",
    "        return len(self.images)\n",
    "    \n",
    "    def __getitem__(self,i):\n",
    "    \n",
    "    #Path for image and mask\n",
    "    \n",
    "        image_path = os.path.join(self.image_dir, self.images[i])\n",
    "        mask_path = os.path.join(self.mask_dir, self.images[i])\n",
    "        \n",
    "        #load data\n",
    "        image = np.array(Image.open(image_path)) \n",
    "        mask = np.array(Image.open(mask_path), dtype = np.float32)\n",
    "        self.transforms = T.Compose([\n",
    "                T.Resize((256, 256)),\n",
    "                T.Grayscale(num_output_channels=1),\n",
    "                T.ToTensor()\n",
    "            ])\n",
    "        return image, mask\n",
    "        \n",
    "        "
   ]
  },
  {
   "cell_type": "code",
   "execution_count": null,
   "metadata": {},
   "outputs": [],
   "source": []
  }
 ],
 "metadata": {
  "kernelspec": {
   "display_name": "Python 3",
   "language": "python",
   "name": "python3"
  },
  "language_info": {
   "codemirror_mode": {
    "name": "ipython",
    "version": 3
   },
   "file_extension": ".py",
   "mimetype": "text/x-python",
   "name": "python",
   "nbconvert_exporter": "python",
   "pygments_lexer": "ipython3",
   "version": "3.8.3"
  }
 },
 "nbformat": 4,
 "nbformat_minor": 4
}
