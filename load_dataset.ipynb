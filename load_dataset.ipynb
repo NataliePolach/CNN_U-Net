{
 "cells": [
  {
   "cell_type": "code",
   "execution_count": null,
   "metadata": {},
   "outputs": [],
   "source": [
    "import os\n",
    "from \n",
    "import numpy as np\n",
    "from PIL import Image\n",
    "from torch.utils.data import Dataset\n",
    "\n",
    "class MicroscopyDataset (Dataset):\n",
    "    \n",
    "    def __init__(self, image_dir, mask_dir, transform = None):\n",
    "        self.image_dir = image_dir\n",
    "        self.mask_dir = mask_dir\n",
    "        self.transform = transform\n",
    "        #list of all files in folder\n",
    "        self.images = os.listdir(image_dir)\n",
    "    \n",
    "    def __len__(self):\n",
    "    '''Length of the dataset'''\n",
    "        return len(self.images)\n",
    "    \n",
    "    def __getitem__(self,index):\n",
    "        '''Path for image and mask'''\n",
    "        image_path = os.path.join(self.image_dir, self.image[index])\n",
    "        mask_path = os.path.join(self.mask_dir, self.image[index])\n",
    "        \n",
    "        #load data\n",
    "        image = np.array(Image.open(image_path).convert(\"RGB\")) \n",
    "        mask = np.array(Image.open(mask_path).convert(\"L\"), dtype = np.float32)\n",
    "        \n",
    "        "
   ]
  }
 ],
 "metadata": {
  "kernelspec": {
   "display_name": "Python 3",
   "language": "python",
   "name": "python3"
  },
  "language_info": {
   "codemirror_mode": {
    "name": "ipython",
    "version": 3
   },
   "file_extension": ".py",
   "mimetype": "text/x-python",
   "name": "python",
   "nbconvert_exporter": "python",
   "pygments_lexer": "ipython3",
   "version": "3.8.3"
  }
 },
 "nbformat": 4,
 "nbformat_minor": 4
}
