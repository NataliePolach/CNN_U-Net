{
 "cells": [
  {
   "cell_type": "code",
   "execution_count": 1,
   "metadata": {},
   "outputs": [
    {
     "name": "stdout",
     "output_type": "stream",
     "text": [
      "(2560, 256)\n"
     ]
    },
    {
     "ename": "PermissionError",
     "evalue": "[Errno 13] Permission denied: '/1.txt'",
     "output_type": "error",
     "traceback": [
      "\u001b[1;31m---------------------------------------------------------------------------\u001b[0m",
      "\u001b[1;31mPermissionError\u001b[0m                           Traceback (most recent call last)",
      "\u001b[1;32m<ipython-input-1-fa1701aa8e9e>\u001b[0m in \u001b[0;36m<module>\u001b[1;34m\u001b[0m\n\u001b[0;32m     34\u001b[0m     \u001b[1;31m#print(\"SAving:\"+name)\u001b[0m\u001b[1;33m\u001b[0m\u001b[1;33m\u001b[0m\u001b[1;33m\u001b[0m\u001b[0m\n\u001b[0;32m     35\u001b[0m     \u001b[0mto_save\u001b[0m \u001b[1;33m=\u001b[0m \u001b[0mnp\u001b[0m\u001b[1;33m.\u001b[0m\u001b[0msqueeze\u001b[0m\u001b[1;33m(\u001b[0m\u001b[0mdata_re\u001b[0m\u001b[1;33m[\u001b[0m\u001b[0mp\u001b[0m\u001b[1;33m]\u001b[0m\u001b[1;33m)\u001b[0m\u001b[1;33m\u001b[0m\u001b[1;33m\u001b[0m\u001b[0m\n\u001b[1;32m---> 36\u001b[1;33m     \u001b[0mnp\u001b[0m\u001b[1;33m.\u001b[0m\u001b[0msavetxt\u001b[0m\u001b[1;33m(\u001b[0m\u001b[0mname\u001b[0m\u001b[1;33m,\u001b[0m \u001b[0mto_save\u001b[0m\u001b[1;33m)\u001b[0m\u001b[1;33m\u001b[0m\u001b[1;33m\u001b[0m\u001b[0m\n\u001b[0m\u001b[0;32m     37\u001b[0m     \u001b[0mp\u001b[0m \u001b[1;33m=\u001b[0m \u001b[0mp\u001b[0m\u001b[1;33m+\u001b[0m\u001b[1;36m1\u001b[0m\u001b[1;33m\u001b[0m\u001b[1;33m\u001b[0m\u001b[0m\n\u001b[0;32m     38\u001b[0m \u001b[1;33m\u001b[0m\u001b[0m\n",
      "\u001b[1;32m<__array_function__ internals>\u001b[0m in \u001b[0;36msavetxt\u001b[1;34m(*args, **kwargs)\u001b[0m\n",
      "\u001b[1;32m~\\anaconda3\\lib\\site-packages\\numpy\\lib\\npyio.py\u001b[0m in \u001b[0;36msavetxt\u001b[1;34m(fname, X, fmt, delimiter, newline, header, footer, comments, encoding)\u001b[0m\n\u001b[0;32m   1375\u001b[0m     \u001b[1;32mif\u001b[0m \u001b[0m_is_string_like\u001b[0m\u001b[1;33m(\u001b[0m\u001b[0mfname\u001b[0m\u001b[1;33m)\u001b[0m\u001b[1;33m:\u001b[0m\u001b[1;33m\u001b[0m\u001b[1;33m\u001b[0m\u001b[0m\n\u001b[0;32m   1376\u001b[0m         \u001b[1;31m# datasource doesn't support creating a new file ...\u001b[0m\u001b[1;33m\u001b[0m\u001b[1;33m\u001b[0m\u001b[1;33m\u001b[0m\u001b[0m\n\u001b[1;32m-> 1377\u001b[1;33m         \u001b[0mopen\u001b[0m\u001b[1;33m(\u001b[0m\u001b[0mfname\u001b[0m\u001b[1;33m,\u001b[0m \u001b[1;34m'wt'\u001b[0m\u001b[1;33m)\u001b[0m\u001b[1;33m.\u001b[0m\u001b[0mclose\u001b[0m\u001b[1;33m(\u001b[0m\u001b[1;33m)\u001b[0m\u001b[1;33m\u001b[0m\u001b[1;33m\u001b[0m\u001b[0m\n\u001b[0m\u001b[0;32m   1378\u001b[0m         \u001b[0mfh\u001b[0m \u001b[1;33m=\u001b[0m \u001b[0mnp\u001b[0m\u001b[1;33m.\u001b[0m\u001b[0mlib\u001b[0m\u001b[1;33m.\u001b[0m\u001b[0m_datasource\u001b[0m\u001b[1;33m.\u001b[0m\u001b[0mopen\u001b[0m\u001b[1;33m(\u001b[0m\u001b[0mfname\u001b[0m\u001b[1;33m,\u001b[0m \u001b[1;34m'wt'\u001b[0m\u001b[1;33m,\u001b[0m \u001b[0mencoding\u001b[0m\u001b[1;33m=\u001b[0m\u001b[0mencoding\u001b[0m\u001b[1;33m)\u001b[0m\u001b[1;33m\u001b[0m\u001b[1;33m\u001b[0m\u001b[0m\n\u001b[0;32m   1379\u001b[0m         \u001b[0mown_fh\u001b[0m \u001b[1;33m=\u001b[0m \u001b[1;32mTrue\u001b[0m\u001b[1;33m\u001b[0m\u001b[1;33m\u001b[0m\u001b[0m\n",
      "\u001b[1;31mPermissionError\u001b[0m: [Errno 13] Permission denied: '/1.txt'"
     ]
    },
    {
     "data": {
      "image/png": "[encoded data removed]",
      "text/plain": [
       "<Figure size 432x288 with 1 Axes>"
      ]
     },
     "metadata": {
      "needs_background": "light"
     },
     "output_type": "display_data"
    }
   ],
   "source": [
    "#predzpracovani dat, vytvoreni jednotlivych snimku pro dalsi praci \n",
    "import numpy as np\n",
    "from matplotlib import pyplot as plt\n",
    "\n",
    "#numpy load\n",
    "PATH_TO_IMAGES = 'C:\\TEST_DELETE_ME_data\\dataTest_10_images_128x128px.txt'\n",
    "NUMBER_OF_IMAGES = 10\n",
    "IMAGE_HEIGHT = 256\n",
    "IMAGE_WIDTH = 256\n",
    "\n",
    "data = np.loadtxt(PATH_TO_IMAGES, dtype=np.float)\n",
    "\n",
    "#upsampling\n",
    "data_r = np.kron(data, np.ones((2,2)))\n",
    "print(data_r.shape)\n",
    "plt.imshow(data_r)\n",
    "\n",
    "#plot data before reshape\n",
    "arr = data_r\n",
    "arr_ = np.squeeze(arr) # you can give axis attribute if you wanna squeeze in specific dimension\n",
    "plt.imshow(arr_, cmap = 'gray')\n",
    "\n",
    "#reshape\n",
    "data_re = data_r.reshape(NUMBER_OF_IMAGES, IMAGE_HEIGHT, IMAGE_WIDTH, 1).astype('float32')\n",
    "\n",
    "#image save \n",
    "p = 0\n",
    "numb = 0\n",
    "folder =\"/\"\n",
    "for i in data_re:\n",
    "    #print(\"pointer: \", p)\n",
    "    numb = str(int(numb)+1)\n",
    "    name = folder+numb+'.txt'\n",
    "    #print(\"SAving:\"+name)\n",
    "    to_save = np.squeeze(data_re[p])\n",
    "    np.savetxt(name, to_save)\n",
    "    p = p+1\n",
    "    \n",
    "print('Complete')"
   ]
  },
  {
   "cell_type": "code",
   "execution_count": null,
   "metadata": {},
   "outputs": [],
   "source": [
    "#300 noisy pictures and save\n",
    "\n",
    "import numpy as np\n",
    "#import matplotlib.pyplot as plt\n",
    "def print_matrix(t):\n",
    "        print(\"MATRIX:\")\n",
    "        print(t)\n",
    "        print(\"\\n\")\n",
    "        print(\"Number of dimensions:\", t.ndim)\n",
    "        print(\"Shape:\", t.shape)\n",
    "        print(\"Length:\", len(t))\n",
    "        print(50*'-')\n",
    "\n",
    "IMAGES = 'path'\n",
    "data = np.loadtxt(IMAGES, dtype=np.float)\n",
    "data_res = np.reshape(data,(300,256,256))\n",
    "print_matrix(data_res)\n",
    "\n",
    "p = 0\n",
    "numb = 0\n",
    "folder =\"/\"\n",
    "\n",
    "for i in data_res:\n",
    "    \n",
    "    #print(\"pointer: \", p)\n",
    "    numb = str(int(numb)+1)\n",
    "    name = folder+numb+'.txt'\n",
    "    \n",
    "    #print(\"SAving:\"+name)\n",
    "    to_save = np.squeeze(data_res[p])\n",
    "    np.savetxt(name, to_save)\n",
    "    p = p+1\n",
    "    \n",
    "print('Complete')"
   ]
  },
  {
   "cell_type": "code",
   "execution_count": null,
   "metadata": {},
   "outputs": [],
   "source": [
    "\n",
    "'''\n",
    "PATH_TO_IMAGES = '\\TEST_DELETE_ME_data\\\\1_obr.txt'\n",
    "obr = np.loadtxt(PATH_TO_IMAGES, dtype=np.float)\n",
    "obr = obr.reshape (1, 256, 256, 1).astype('float32')\n",
    "obr = torch.from_numpy(obr)\n",
    "print(obr)\n",
    "\n",
    "vyp_obr = model(obr)\n",
    "    \n",
    "yz = vyp_obr.detach().numpy()\n",
    "print()\n",
    "print(yz.shape)\n",
    "       \n",
    "arr = yz\n",
    "arr_ = np.squeeze(arr)\n",
    "plt.imshow(arr_)\n",
    "plt.show()\n",
    "'''    "
   ]
  },
  {
   "cell_type": "code",
   "execution_count": null,
   "metadata": {},
   "outputs": [],
   "source": []
  }
 ],
 "metadata": {
  "kernelspec": {
   "display_name": "Python 3",
   "language": "python",
   "name": "python3"
  },
  "language_info": {
   "codemirror_mode": {
    "name": "ipython",
    "version": 3
   },
   "file_extension": ".py",
   "mimetype": "text/x-python",
   "name": "python",
   "nbconvert_exporter": "python",
   "pygments_lexer": "ipython3",
   "version": "3.8.3"
  }
 },
 "nbformat": 4,
 "nbformat_minor": 4
}
